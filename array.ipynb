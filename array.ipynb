{
 "cells": [
  {
   "cell_type": "code",
   "execution_count": 1,
   "metadata": {},
   "outputs": [
    {
     "name": "stdout",
     "output_type": "stream",
     "text": [
      "hello\n"
     ]
    }
   ],
   "source": [
    "print(\"hello\")"
   ]
  },
  {
   "cell_type": "code",
   "execution_count": 6,
   "metadata": {},
   "outputs": [
    {
     "name": "stdout",
     "output_type": "stream",
     "text": [
      "[2, 1, 2]\n"
     ]
    }
   ],
   "source": [
    "n = int(input())\n",
    "a = []\n",
    "for i in range(n):\n",
    "    a.append(int(input()))\n",
    "#a.append(int(input(), 4))\n",
    "print(a)"
   ]
  },
  {
   "cell_type": "code",
   "execution_count": 4,
   "metadata": {},
   "outputs": [
    {
     "name": "stdout",
     "output_type": "stream",
     "text": [
      "0\n",
      "0\n",
      "0\n",
      "2\n",
      "2\n",
      "[3, 2, 4]\n",
      "[4, 1, 3]\n"
     ]
    }
   ],
   "source": [
    "n = int(input())\n",
    "arr = []\n",
    "for i in range(n):\n",
    "    arr.append(int(input()))\n",
    "    \n",
    "# arr = list(map(int, input().split()))\n",
    "\n",
    "# Step 1: Count the frequency of each element\n",
    "unique_elements = []\n",
    "frequencies = []\n",
    "\n",
    "for num in arr:\n",
    "    if num not in unique_elements:\n",
    "        unique_elements.append(num)\n",
    "        frequencies.append(1)\n",
    "    else:\n",
    "        print(unique_elements.index(num))\n",
    "        frequencies[unique_elements.index(num)] += 1\n",
    "print (unique_elements)\n",
    "print(frequencies)"
   ]
  },
  {
   "cell_type": "code",
   "execution_count": 10,
   "metadata": {},
   "outputs": [
    {
     "name": "stdout",
     "output_type": "stream",
     "text": [
      "3\n",
      "3\n"
     ]
    }
   ],
   "source": [
    "unique_elements = [3, 2, 1]\n",
    "print(len(unique_elements))\n",
    "print(len(unique_elements))"
   ]
  },
  {
   "cell_type": "code",
   "execution_count": 15,
   "metadata": {},
   "outputs": [
    {
     "name": "stdout",
     "output_type": "stream",
     "text": [
      "4\n"
     ]
    }
   ],
   "source": [
    "n = int(input()) #getting the n value\n",
    "a = list(map(int,input().split()))\n",
    "print(len(a))"
   ]
  },
  {
   "cell_type": "code",
   "execution_count": 43,
   "metadata": {},
   "outputs": [
    {
     "ename": "TypeError",
     "evalue": "print() argument after ** must be a mapping, not list",
     "output_type": "error",
     "traceback": [
      "\u001b[1;31m---------------------------------------------------------------------------\u001b[0m",
      "\u001b[1;31mTypeError\u001b[0m                                 Traceback (most recent call last)",
      "Cell \u001b[1;32mIn[43], line 26\u001b[0m\n\u001b[0;32m     24\u001b[0m \u001b[38;5;28;01mfor\u001b[39;00m i \u001b[38;5;129;01min\u001b[39;00m \u001b[38;5;28mrange\u001b[39m(\u001b[38;5;28mlen\u001b[39m(unique_element)) :\n\u001b[0;32m     25\u001b[0m     sorted_value\u001b[38;5;241m.\u001b[39mextend(([unique_element[i]] \u001b[38;5;241m*\u001b[39m frequency[i]))\n\u001b[1;32m---> 26\u001b[0m \u001b[38;5;28mprint\u001b[39m(\u001b[38;5;241m*\u001b[39m\u001b[38;5;241m*\u001b[39msorted_value)\n",
      "\u001b[1;31mTypeError\u001b[0m: print() argument after ** must be a mapping, not list"
     ]
    }
   ],
   "source": [
    "n = int(input()) #getting the n value\n",
    "a = list(map(int,input().split())) #splitting the single lined input and storing it in list\n",
    "#for storing uniqe value and find the frequency\n",
    "unique_element = []\n",
    "frequency = []\n",
    "\n",
    "for i in a:\n",
    "    if i not in unique_element:\n",
    "        unique_element.append(i)\n",
    "        frequency.append(1)\n",
    "    else:\n",
    "        frequency[unique_element.index(i)] += 1\n",
    "\n",
    "#swap if first number is greater next one\n",
    "for i in range (len(unique_element) - 1):\n",
    "    for j in range (len(unique_element) -i -1):\n",
    "        if (frequency[j] > frequency[j+1]) or (frequency[j] == frequency[j+1] and unique_element[j] > unique_element[j+1]) :\n",
    "            unique_element[j], unique_element[j+1] = unique_element[j+1], unique_element[j]\n",
    "            frequency[j] , frequency[j+1] = frequency[j+1], frequency[j]\n",
    "\n",
    "#sorted2 = list(map(str, unique_element))\n",
    "#print(' '.join(sorted2))       \n",
    "sorted_value = []\n",
    "for i in range(len(unique_element)) :\n",
    "    sorted_value.extend(([unique_element[i]] * frequency[i]))\n",
    "print(**sorted_value)"
   ]
  },
  {
   "cell_type": "code",
   "execution_count": 42,
   "metadata": {},
   "outputs": [
    {
     "name": "stdout",
     "output_type": "stream",
     "text": [
      "[2, 3, 1, 1]\n"
     ]
    }
   ],
   "source": [
    "n = int(input()) #getting the n value\n",
    "a = list(map(int,input().split())) #splitting the single lined input and storing it in list\n",
    "#for storing uniqe value and find the frequency\n",
    "unique_element = []\n",
    "frequency = []\n",
    "\n",
    "for i in a:\n",
    "    if i not in unique_element:\n",
    "        unique_element.append(i)\n",
    "        frequency.append(1)\n",
    "    else:\n",
    "        frequency[unique_element.index(i)] += 1\n",
    "\n",
    "#swap if first number is greater next one\n",
    "for i in range (len(unique_element) - 1):\n",
    "    for j in range (len(unique_element) -i -1):\n",
    "        if (frequency[j] > frequency[j+1]) or (frequency[j] == frequency[j+1] and unique_element[j] > unique_element[j+1]) :\n",
    "            unique_element[j], unique_element[j+1] = unique_element[j+1], unique_element[j]\n",
    "            frequency[j] , frequency[j+1] = frequency[j+1], frequency[j]\n",
    "\n",
    "# sorted2 = list(map(str, unique_element))\n",
    "# print(' '.join(sorted2))       \n",
    "sorted_value = []\n",
    "for i in range(len(unique_element)) :\n",
    "    sorted_value.extend(([unique_element[i]] * frequency[i]))\n",
    "print(sorted_value)"
   ]
  },
  {
   "cell_type": "code",
   "execution_count": 7,
   "metadata": {},
   "outputs": [
    {
     "name": "stdout",
     "output_type": "stream",
     "text": [
      "[4, 2, 3, 4]\n"
     ]
    }
   ],
   "source": [
    "n = int(input())\n",
    "a = list(map(int,input().split()))\n",
    "print(a)"
   ]
  },
  {
   "cell_type": "code",
   "execution_count": 9,
   "metadata": {},
   "outputs": [
    {
     "name": "stdout",
     "output_type": "stream",
     "text": [
      "2000\n"
     ]
    }
   ],
   "source": [
    "# \n",
    "# n = int(input())#getting the input\n",
    "# savings = 1000\n",
    "# for i in range(1, n+1):\n",
    "#     savings = savings + 1000*i\n",
    "# print(savings)\n",
    "\n",
    "savings = [1000, 1000]\n",
    "n = int (input())\n",
    "\n",
    "if n == 1:\n",
    "    print(sum(savings))\n",
    "else:\n",
    "    #initailizing the existing value and the savings for the first month\n",
    "    for i in range(2 , n):\n",
    "        savings.append(savings[i - 1] + savings[i - 2]) #appending the each month salary by summing the previous two months\n",
    "        print(savings)\n",
    "    total = sum(savings) #summing the total amount\n",
    "    print(total)"
   ]
  },
  {
   "cell_type": "code",
   "execution_count": 13,
   "metadata": {},
   "outputs": [
    {
     "name": "stdout",
     "output_type": "stream",
     "text": [
      "[1000, 1000, 2000]\n",
      "4000\n"
     ]
    },
    {
     "ename": "",
     "evalue": "",
     "output_type": "error",
     "traceback": [
      "\u001b[1;31mThe Kernel crashed while executing code in the current cell or a previous cell. \n",
      "\u001b[1;31mPlease review the code in the cell(s) to identify a possible cause of the failure. \n",
      "\u001b[1;31mClick <a href='https://aka.ms/vscodeJupyterKernelCrash'>here</a> for more info. \n",
      "\u001b[1;31mView Jupyter <a href='command:jupyter.viewOutput'>log</a> for further details."
     ]
    }
   ],
   "source": [
    "n = int (input())\n",
    "\n",
    "if n == 1:\n",
    "    print (2000)\n",
    "\n",
    "savings = [1000, 1000] #initailizing the existing value and the savings for the first month\n",
    "\n",
    "for i in range(n - 1):\n",
    "    savings.append(savings[i] + savings[i + 1]) #appending the each month salary by summing the previous two months\n",
    "    print(savings)\n",
    "total = sum(savings) #summing the total amount\n",
    "print(total)"
   ]
  },
  {
   "cell_type": "code",
   "execution_count": 10,
   "metadata": {},
   "outputs": [
    {
     "name": "stdout",
     "output_type": "stream",
     "text": [
      "2000\n"
     ]
    }
   ],
   "source": [
    "def total_savings(n):\n",
    "    # Base case\n",
    "    if n == 1:\n",
    "        return 2000  # Initial savings (1000) + First month's savings (1000)\n",
    "\n",
    "    # Savings for each month\n",
    "    savings = [1000, 1000]  # Initial two months' savings\n",
    "\n",
    "    # Calculate savings for the subsequent months\n",
    "    for i in range(2, n):\n",
    "        savings.append(savings[i-1] + savings[i-2])\n",
    "\n",
    "    # Total savings\n",
    "    total = sum(savings)\n",
    "    return total\n",
    "\n",
    "# Input: number of months\n",
    "n = int(input(\"Enter the number of months: \"))\n",
    "\n",
    "# Output: total savings\n",
    "print(total_savings(n))\n"
   ]
  },
  {
   "cell_type": "code",
   "execution_count": 4,
   "metadata": {},
   "outputs": [
    {
     "name": "stdout",
     "output_type": "stream",
     "text": [
      "[1000, 1000, 2000, 3000, 5000, 8000]\n",
      "20000\n"
     ]
    }
   ],
   "source": [
    "n = int (input())\n",
    "\n",
    "if n == 1:\n",
    "    print (2000)\n",
    "\n",
    "savings = [1000, 1000] #initailizing the existing value and the savings for the first month\n",
    "\n",
    "for i in range(n - 1):\n",
    "    savings.append(savings[i] + savings[i + 1]) #appending the each month salary by summing the previous two months\n",
    "print(savings)\n",
    "total = sum(savings) #summing the total amount\n",
    "print(total)"
   ]
  },
  {
   "cell_type": "code",
   "execution_count": null,
   "metadata": {},
   "outputs": [],
   "source": [
    "n = int (input())\n",
    "\n",
    "if n == 1:\n",
    "    print (2000)\n",
    "\n",
    "savings = [1000, 1000] #initailizing the existing value and the savings for the first month\n",
    "\n",
    "# for i in range(n - 1):\n",
    "#     savings.append(savings[i] + savings[i + 1]) #appending the each month salary by summing the previous two months\n",
    "#     #print(savings)\n",
    "# total = sum(savings) #summing the total amount\n",
    "# print(total)\n",
    "for i in range (n - 1):\n",
    "    "
   ]
  },
  {
   "cell_type": "code",
   "execution_count": 5,
   "metadata": {},
   "outputs": [
    {
     "name": "stdout",
     "output_type": "stream",
     "text": [
      "3\n"
     ]
    }
   ],
   "source": [
    "def calculate_trapped_air(A):\n",
    "    n = len(A)\n",
    "    if n == 0:\n",
    "        return 0\n",
    "\n",
    "    # Step 1: Precompute max_left and max_right\n",
    "    max_left = [0] * n\n",
    "    max_right = [0] * n\n",
    "    \n",
    "    max_left[0] = A[0]\n",
    "    for i in range(1, n):\n",
    "        max_left[i] = max(max_left[i-1], A[i])\n",
    "    \n",
    "    max_right[n-1] = A[n-1]\n",
    "    for i in range(n-2, -1, -1):\n",
    "        max_right[i] = max(max_right[i+1], A[i])\n",
    "\n",
    "    # Step 2: Calculate trapped air\n",
    "    trapped = 0\n",
    "    for i in range(n):\n",
    "        trapped += max(0, min(max_left[i], max_right[i]) - A[i])\n",
    "    \n",
    "    return trapped\n",
    "\n",
    "# Example Usage\n",
    "heights = [7, 4, 9]\n",
    "print(calculate_trapped_air(heights))  # Output: 6\n"
   ]
  },
  {
   "cell_type": "code",
   "execution_count": null,
   "metadata": {},
   "outputs": [],
   "source": [
    "n = int (input())\n",
    "\n",
    "savings = [1000, 1000] #initailizing the existing value and the savings for the first month\n",
    "\n",
    "if n == 1:\n",
    "    print (sum(savings))\n",
    "else :\n",
    "    for i in range(n - 1):\n",
    "        savings.append(savings[i] + savings[i + 1]) #appending the each month salary by summing the previous two months\n",
    "        #print(savings)\n",
    "    total = sum(savings) #summing the total amount\n",
    "    print(total)"
   ]
  },
  {
   "cell_type": "markdown",
   "metadata": {},
   "source": [
    "# Water trapping propblem\n",
    "n = int(input())\n",
    "a = list(map(int, input().split()))\n",
    "lefmax= [0] * n\n",
    "rightmax = [0] * n\n",
    "total = 0\n",
    "\n",
    "# for getting the leftmax values\n",
    "for i in range len(n)-1 :\n",
    "    lefmax[i] = max(leftmax[i], a[i+1]) # by doing this a[i] max we can avoid negative values\n",
    "for j in range (len(n-1), -1, -1):\n",
    "    rightmax = max(rightmax[i], a[i+1])\n",
    "\n",
    "for i in range(len(n)-1):\n",
    "    total += min(leftmax[i], rightmax[i])\n",
    "\n",
    "print(total)"
   ]
  },
  {
   "cell_type": "code",
   "execution_count": 30,
   "metadata": {},
   "outputs": [
    {
     "name": "stdout",
     "output_type": "stream",
     "text": [
      "[0, 7, 7]\n",
      "rmax [9, 9, 0]\n",
      "3\n"
     ]
    }
   ],
   "source": [
    "# Water trapping propblem\n",
    "n = int(input())\n",
    "a = list(map(int, input().split()))\n",
    "leftmax= [0] * n\n",
    "rightmax = [0] * n\n",
    "total = 0\n",
    "\n",
    "# for getting the leftmax values\n",
    "#leftmax[0] = a[0]  #assigning the initial leftmax value as a[0], since it does not have any left in beginning\n",
    "leftmax[0] = 0\n",
    "lmax = 0\n",
    "for i in range (1, len(a)) :\n",
    "    #print(leftmax[i-1],a[i])\n",
    "    #leftmax[i] = max(leftmax[i-1], a[i]) # by doing this a[i] max we can avoid negative values\n",
    "    lmax = max(lmax, a[i-1])\n",
    "    leftmax[i] = lmax\n",
    "print(leftmax)\n",
    "#print(leftmax)\n",
    "#rightmax[len(a)-1] = a[len(a)-1]  #assigning rightmax value as a[n-1]\n",
    "rightmax[len(a) - 1] = 0\n",
    "rmax = 0\n",
    "for i in range (len(a) - 2, -1, -1):\n",
    "    #rightmax[i] = max(rightmax[i+1], a[i])\n",
    "    rmax = max(rmax, a[i+1])\n",
    "    rightmax[i] = rmax\n",
    "print(f\"rmax {rightmax}\")\n",
    "\n",
    "#formula min(leftmax[i], rightmax[i]) - A[i]\n",
    "for i in range(len(a)-1):\n",
    "    total += max(0, min(leftmax[i], rightmax[i]) - a[i])\n",
    "\n",
    "print(total)"
   ]
  },
  {
   "cell_type": "code",
   "execution_count": null,
   "metadata": {},
   "outputs": [],
   "source": []
  },
  {
   "cell_type": "code",
   "execution_count": null,
   "metadata": {},
   "outputs": [],
   "source": []
  },
  {
   "cell_type": "code",
   "execution_count": null,
   "metadata": {},
   "outputs": [],
   "source": []
  },
  {
   "cell_type": "code",
   "execution_count": null,
   "metadata": {},
   "outputs": [],
   "source": []
  },
  {
   "cell_type": "code",
   "execution_count": null,
   "metadata": {},
   "outputs": [],
   "source": []
  },
  {
   "cell_type": "code",
   "execution_count": 38,
   "metadata": {},
   "outputs": [
    {
     "name": "stdout",
     "output_type": "stream",
     "text": [
      "Processing file: C:\\ram\\unzipped_data\\source1.csv\n",
      "Processing file: C:\\ram\\unzipped_data\\source1.json\n",
      "Processing file: C:\\ram\\unzipped_data\\source1.xml\n",
      "Processing file: C:\\ram\\unzipped_data\\source2.csv\n",
      "Processing file: C:\\ram\\unzipped_data\\source2.json\n",
      "Processing file: C:\\ram\\unzipped_data\\source2.xml\n",
      "Processing file: C:\\ram\\unzipped_data\\source3.csv\n",
      "Processing file: C:\\ram\\unzipped_data\\source3.json\n",
      "Processing file: C:\\ram\\unzipped_data\\source3.xml\n",
      "Extracted Data:\n",
      "    name height  weight\n",
      "0   alex  65.78  112.99\n",
      "1   ajay  71.52  136.49\n",
      "2  alice   69.4  153.03\n",
      "3   ravi  68.22  142.34\n",
      "4    joe  67.79   144.3\n",
      "Transformed Data:\n",
      "    name    height     weight\n",
      "0   alex  1.670812  51.251360\n",
      "1   ajay  1.816608  61.910772\n",
      "2  alice  1.762760  69.413184\n",
      "3   ravi  1.732788  64.564285\n",
      "4    joe  1.721866  65.453326\n"
     ]
    }
   ],
   "source": [
    "import os\n",
    "import glob\n",
    "import pandas as pd\n",
    "import xml.etree.ElementTree as ET\n",
    "from datetime import datetime\n",
    "import zipfile\n",
    "\n",
    "def log(message, log_file):\n",
    "    \"\"\"Log messages to a log file with a timestamp.\"\"\"\n",
    "    timestamp = datetime.now().strftime('%Y-%m-%d %H:%M:%S')\n",
    "    with open(log_file, 'a') as f:\n",
    "        f.write(f\"[{timestamp}] {message}\\n\")\n",
    "\n",
    "def unzip_file(zip_path, extract_to):\n",
    "    \"\"\"Unzip the file to the specified directory.\"\"\"\n",
    "    if not os.path.exists(extract_to):\n",
    "        os.makedirs(extract_to)  # Create the folder if it doesn't exist\n",
    "    with zipfile.ZipFile(zip_path, 'r') as zip_ref:\n",
    "        zip_ref.extractall(extract_to)\n",
    "\n",
    "def extract_csv(file_path):\n",
    "    \"\"\"Extract data from a CSV file.\"\"\"\n",
    "    try:\n",
    "        return pd.read_csv(file_path)\n",
    "    except Exception as e:\n",
    "        print(f\"Error reading CSV file {file_path}: {e}\")\n",
    "        return pd.DataFrame()\n",
    "\n",
    "def extract_json(file_path):\n",
    "    \"\"\"Extract data from a JSON file.\"\"\"\n",
    "    try:\n",
    "        return pd.read_json(file_path, lines=True)  # Use lines=True for JSON lines format\n",
    "    except ValueError as e:\n",
    "        print(f\"Error reading JSON file {file_path}: {e}\")\n",
    "        return pd.DataFrame()\n",
    "\n",
    "def extract_xml(file_path):\n",
    "    \"\"\"Extract data from an XML file.\"\"\"\n",
    "    try:\n",
    "        tree = ET.parse(file_path)\n",
    "        root = tree.getroot()\n",
    "        all_data = []\n",
    "        for child in root:\n",
    "            data = {element.tag: element.text for element in child}\n",
    "            all_data.append(data)\n",
    "        return pd.DataFrame(all_data)\n",
    "    except ET.ParseError as e:\n",
    "        print(f\"Error reading XML file {file_path}: {e}\")\n",
    "        return pd.DataFrame()\n",
    "\n",
    "def extract_data(data_folder):\n",
    "    \"\"\"Extract data from multiple file formats.\"\"\"\n",
    "    extracted_data = pd.DataFrame()\n",
    "    for file in glob.glob(f\"{data_folder}/*\"):\n",
    "        print(f\"Processing file: {file}\")  # Print each file being processed\n",
    "        try:\n",
    "            if file.endswith('.csv'):\n",
    "                data = extract_csv(file)\n",
    "            elif file.endswith('.json'):\n",
    "                data = extract_json(file)\n",
    "            elif file.endswith('.xml'):\n",
    "                data = extract_xml(file)\n",
    "            else:\n",
    "                continue\n",
    "            extracted_data = pd.concat([extracted_data, data], ignore_index=True)\n",
    "        except Exception as e:\n",
    "            print(f\"Error processing file {file}: {e}\")\n",
    "    \n",
    "    # Normalize column names to lowercase for consistency\n",
    "    extracted_data.columns = [col.lower() for col in extracted_data.columns]\n",
    "\n",
    "        # Remove duplicates\n",
    "    extracted_data = extracted_data.drop_duplicates()\n",
    "\n",
    "    return extracted_data\n",
    "\n",
    "def transform_data(data):\n",
    "    \"\"\"Transform the data (convert heights and weights).\"\"\"\n",
    "    try:\n",
    "        data['height'] = data['height'].astype(float) * 0.0254  # inches to meters\n",
    "        data['weight'] = data['weight'].astype(float) * 0.453592  # pounds to kilograms\n",
    "    except KeyError as e:\n",
    "        print(f\"Missing column during transformation: {e}\")\n",
    "    except ValueError as e:\n",
    "        print(f\"Data conversion error during transformation: {e}\")\n",
    "    return data\n",
    "\n",
    "def load_data(data, output_file):\n",
    "    \"\"\"Save the transformed data to a CSV file.\"\"\"\n",
    "    try:\n",
    "        data.to_csv(output_file, index=False)\n",
    "    except Exception as e:\n",
    "        print(f\"Error saving data to {output_file}: {e}\")\n",
    "\n",
    "def main():\n",
    "    # Paths\n",
    "    zip_file = r'C:\\ram\\source.zip'\n",
    "    data_folder = r'C:\\ram\\unzipped_data'\n",
    "    log_file = r'C:\\ram\\log_file.txt'\n",
    "    output_file = r'C:\\ram\\transformed_data2.csv'\n",
    "\n",
    "    # Clear log file\n",
    "    if os.path.exists(log_file):\n",
    "        os.remove(log_file)\n",
    "\n",
    "    # Unzipping step\n",
    "    log(\"Unzipping the file.\", log_file)\n",
    "    unzip_file(zip_file, data_folder)\n",
    "\n",
    "    log(\"ETL process started.\", log_file)\n",
    "    \n",
    "    try:\n",
    "        # Extraction\n",
    "        log(\"Starting data extraction.\", log_file)\n",
    "        extracted_data = extract_data(data_folder)\n",
    "        log(\"Data extraction completed.\", log_file)\n",
    "\n",
    "        # Print extracted data for debugging\n",
    "        print(\"Extracted Data:\")\n",
    "        print(extracted_data.head())\n",
    "\n",
    "        # Transformation\n",
    "        log(\"Starting data transformation.\", log_file)\n",
    "        transformed_data = transform_data(extracted_data)\n",
    "        log(\"Data transformation completed.\", log_file)\n",
    "\n",
    "        # Print transformed data for debugging\n",
    "        print(\"Transformed Data:\")\n",
    "        print(transformed_data.head())\n",
    "\n",
    "        # Loading\n",
    "        log(\"Starting data loading.\", log_file)\n",
    "        load_data(transformed_data, output_file)\n",
    "        log(\"Data loading completed.\", log_file)\n",
    "\n",
    "        log(\"ETL process completed successfully.\", log_file)\n",
    "\n",
    "    except Exception as e:\n",
    "        log(f\"ETL process failed: {e}\", log_file)\n",
    "        print(f\"ETL process failed: {e}\")\n",
    "\n",
    "if __name__ == \"__main__\":\n",
    "    main()\n"
   ]
  },
  {
   "cell_type": "code",
   "execution_count": 22,
   "metadata": {},
   "outputs": [
    {
     "name": "stdout",
     "output_type": "stream",
     "text": [
      "C:\\ram\\# Add num_one and num_two and assig.txt\n",
      "C:\\ram\\class sample1().txt\n",
      "C:\\ram\\class_mins.txt\n",
      "C:\\ram\\class_notes.txt\n",
      "C:\\ram\\log_file.txt\n",
      "C:\\ram\\practice\n",
      "C:\\ram\\python_codes\n",
      "C:\\ram\\sample_output.jpg\n",
      "C:\\ram\\source.zip\n",
      "C:\\ram\\transformed_data.csv\n",
      "C:\\ram\\unzipped_data\n",
      "C:\\ram\\Visaranai (2016)[1080p HD - AVC - MP4 - 2GB - ESubs - Tamil].srt\n",
      "C:\\ram\\practice\\array.ipynb\n",
      "C:\\ram\\python_codes\\check_vowel.txt\n",
      "C:\\ram\\unzipped_data\\source1.csv\n",
      "C:\\ram\\unzipped_data\\source1.json\n",
      "C:\\ram\\unzipped_data\\source1.xml\n",
      "C:\\ram\\unzipped_data\\source2.csv\n",
      "C:\\ram\\unzipped_data\\source2.json\n",
      "C:\\ram\\unzipped_data\\source2.xml\n",
      "C:\\ram\\unzipped_data\\source3.csv\n",
      "C:\\ram\\unzipped_data\\source3.json\n",
      "C:\\ram\\unzipped_data\\source3.xml\n"
     ]
    }
   ],
   "source": [
    "all_txt_files = glob.glob(r'C:\\ram\\**\\*', recursive=True)\n",
    "#all_txt_files1 = list(all_txt_files.split())\n",
    "for i in all_txt_files:\n",
    "    print(f'{i}')"
   ]
  },
  {
   "cell_type": "code",
   "execution_count": 23,
   "metadata": {},
   "outputs": [
    {
     "name": "stdout",
     "output_type": "stream",
     "text": [
      "    name  height  weight\n",
      "0   alex   65.78  112.99\n",
      "1   ajay   71.52  136.49\n",
      "2  alice   69.40  153.03\n",
      "3   ravi   68.22  142.34\n",
      "4    joe   67.79  144.30\n"
     ]
    }
   ],
   "source": [
    "df =pd.read_csv(r'C:\\ram\\unzipped_data\\source3.csv')\n",
    "print(df.head())"
   ]
  },
  {
   "cell_type": "code",
   "execution_count": null,
   "metadata": {},
   "outputs": [],
   "source": [
    "#Bit complicate one for calcuating the max window can be creted\n",
    "#for easy one check the next code\n",
    "val = list(map(str, input(\"Enter elements separated by space: \").split()))\n",
    "s = set()\n",
    "r = 0\n",
    "max_length = 0\n",
    "\n",
    "for l in range(len(val)):\n",
    "    while r < len(val) and val[r] not in s:\n",
    "        \n",
    "        s.add(val[r])\n",
    "        print(s)\n",
    "        r += 1\n",
    "    max_length = max(max_length, r - l)  # Update the maximum length\n",
    "    s.remove(val[l])  # Slide the window by removing the leftmost element\n",
    "    print(f\"after removing one element: {s}\")\n",
    "\n",
    "print(\"The length of the longest subarray with unique elements is:\", max_length)\n"
   ]
  },
  {
   "cell_type": "code",
   "execution_count": 19,
   "metadata": {},
   "outputs": [
    {
     "name": "stdout",
     "output_type": "stream",
     "text": [
      "after addition {'a'}\n",
      "after addition {'a', 'b'}\n",
      "after addition {'a', 'b', 'c'}\n",
      "removed values{'b', 'c'}\n",
      "after addition {'a', 'b', 'c'}\n",
      "removed values{'a', 'c'}\n",
      "after addition {'a', 'b', 'c'}\n",
      "removed values{'a', 'b'}\n",
      "after addition {'a', 'b', 'c'}\n",
      "removed values{'b', 'c'}\n",
      "removed values{'c'}\n",
      "after addition {'b', 'c'}\n",
      "removed values{'b'}\n",
      "removed valuesset()\n",
      "after addition {'b'}\n",
      "3\n"
     ]
    }
   ],
   "source": [
    "s = set()\n",
    "val = [ 'a',  'b' , 'c',  'a',  'b',  'c',  'b',  'b' ]\n",
    "l = 0\n",
    "max_window = 0\n",
    "for r in range( len(val)):\n",
    "    while val[r] in s :\n",
    "        s.remove(val[l])\n",
    "        print(f\"removed values{s}\")\n",
    "        l += 1\n",
    "    w = (r - l) + 1 #this is the length of the window, will get calcualte in each iteration.\n",
    "    max_window = max(max_window, w) #to compare if any of the window became bigger\n",
    "    s.add(val[r])\n",
    "    print(f\"after addition {s}\")\n",
    "print(max_window)\n",
    "\n",
    "    \n",
    "\n",
    "\n"
   ]
  },
  {
   "cell_type": "code",
   "execution_count": 22,
   "metadata": {},
   "outputs": [
    {
     "name": "stdout",
     "output_type": "stream",
     "text": [
      "12.75\n"
     ]
    }
   ],
   "source": [
    "# sliding window problem for given window size\n",
    "num = [1, 12, -5, -6, 50, 3]\n",
    "k = 4\n",
    "max_value = 0\n",
    "add = 0\n",
    "max_avg = 0\n",
    "for i in range (k): #iterate till window size\n",
    "    add += num[i]\n",
    "    max_avg = add / k\n",
    "for i in range(k,len(num)): #sliding happens here, as we start from the previous  window \n",
    "    add += num[i]\n",
    "    add -= num[i-k]\n",
    "    avg = add / k\n",
    "    max_avg = max(avg, max_avg) #holding the maximum value\n",
    "print(max_avg)\n"
   ]
  },
  {
   "cell_type": "code",
   "execution_count": 7,
   "metadata": {},
   "outputs": [
    {
     "name": "stdout",
     "output_type": "stream",
     "text": [
      "deque([1])\n",
      "deque([1, 2])\n",
      "deque([1, 2, 3])\n",
      "deque([6])\n",
      "[-2, -2, -3, -4, -2]\n"
     ]
    }
   ],
   "source": [
    "import collections;\n",
    "dq = collections.deque() # to hold the index of the given array\n",
    "result =[]\n",
    "num = [1, -2, -3, -4, 5, 6,-2]\n",
    "k =3\n",
    "for i in range (len(num)):\n",
    "    #to keep the window in mentioned size\n",
    "    if dq and dq[0] < i - k + 1 : #checking the index of array to be within the window\n",
    "        dq.popleft()\n",
    "    if num[i] < 0 : #for storing the negative values\n",
    "        dq.append(i)\n",
    "        print(dq)\n",
    "    if i >= k -1:\n",
    "        result.append(num[dq[0]])\n",
    "if dq :\n",
    "        print(result)\n",
    "else   :\n",
    "        print(0)"
   ]
  },
  {
   "cell_type": "code",
   "execution_count": null,
   "metadata": {},
   "outputs": [],
   "source": []
  },
  {
   "cell_type": "markdown",
   "metadata": {},
   "source": [
    "n, m = list(map(int, input().split()))\n",
    "a = list(map(int, input().split()))\n",
    "b = list(map(int, input().split()))\n",
    "a.sort()\n",
    "b.sort(reverse=True)\n",
    "a = list(map(str, a))\n",
    "b = list(map(str, b))\n",
    "print(\" \".join(a) + \" \" + \" \".join(b))\n",
    "# print(map(str,\" \".join(a)) + \" \" + map(str,\" \".join(b)))\n",
    "#print(f\"{a}, {b}\")"
   ]
  },
  {
   "cell_type": "code",
   "execution_count": 10,
   "metadata": {},
   "outputs": [
    {
     "name": "stdout",
     "output_type": "stream",
     "text": [
      "hi\n",
      "inf\n"
     ]
    }
   ],
   "source": [
    "# n = int(input())\n",
    "# a = list(map(int, input().split()))\n",
    "print(\"hi\")\n",
    "min = float('inf')\n",
    "print(min)"
   ]
  },
  {
   "cell_type": "code",
   "execution_count": 27,
   "metadata": {},
   "outputs": [
    {
     "name": "stdout",
     "output_type": "stream",
     "text": [
      "[76, 25, 7, 6]\n",
      "[1, 1, 2, 2]\n",
      "76 25 "
     ]
    }
   ],
   "source": [
    "n = int(input())\n",
    "a = list(map(int, input().split()))\n",
    "frequency = []\n",
    "check = []\n",
    "\n",
    "for i in range (n):\n",
    "    if a[i]  not in check :\n",
    "        check.append(a[i])\n",
    "        frequency.append(1)\n",
    "    else:\n",
    "        frequency[check.index(a[i])] += 1\n",
    "\n",
    "print(check)\n",
    "print(frequency)\n",
    "for i in range(len(frequency)) :\n",
    "    if frequency[i] == 1 and  i < len(frequency) -1 :\n",
    "        print(check[i], end = \" \")\n",
    "    elif frequency[i] == 1 and  i == len(frequency) -1 :\n",
    "        print(check[i])"
   ]
  },
  {
   "cell_type": "code",
   "execution_count": 30,
   "metadata": {},
   "outputs": [
    {
     "name": "stdout",
     "output_type": "stream",
     "text": [
      "[1, 2, 3, 4, 5, 6, 7, 0]\n",
      "[1, 2, 2, 2, 3, 3, 2, 1]\n",
      "1 7\n"
     ]
    }
   ],
   "source": [
    "n = int(input())\n",
    "a = list(map(int, input().split()))\n",
    "frequency = []\n",
    "check = []\n",
    "result =[]\n",
    "for i in range (n):\n",
    "    if a[i]  not in check :\n",
    "        check.append(a[i])\n",
    "        frequency.append(1)\n",
    "    else:\n",
    "        frequency[check.index(a[i])] += 1\n",
    "\n",
    "print(check)\n",
    "print(frequency)\n",
    "for i in range(len(frequency)) :\n",
    "    if frequency[i] == 1  :\n",
    "        result.append(check[i])\n",
    "result = list(map(str, result))\n",
    "print(\" \".join(result))"
   ]
  },
  {
   "cell_type": "code",
   "execution_count": 13,
   "metadata": {},
   "outputs": [
    {
     "name": "stdout",
     "output_type": "stream",
     "text": [
      "[10, 7, 9, 3, 2, 1, 15]\n",
      "[1, 2, 3, 7, 9, 10, 15]\n"
     ]
    }
   ],
   "source": [
    "a = \"10 7 9 3 2 1 15\"\n",
    "a = list(map(int, a.split()))\n",
    "print(a)\n",
    "for i in range (n):\n",
    "    next_small = -1\n",
    "    \n",
    "    #iterate through all the value\n",
    "\n",
    "\n"
   ]
  },
  {
   "cell_type": "code",
   "execution_count": 12,
   "metadata": {},
   "outputs": [
    {
     "name": "stdout",
     "output_type": "stream",
     "text": [
      "[3, 1, 4, 1, 5]\n",
      "[1, 1, 3, 4, 5]\n"
     ]
    }
   ],
   "source": [
    "a = [3, 1, 4, 1, 5]\n",
    "b = sorted(a)  # b is a new sorted list\n",
    "print(a)  # [3, 1, 4, 1, 5] (original remains unchanged)\n",
    "print(b)  # [1, 1, 3, 4, 5] (new sorted list)"
   ]
  },
  {
   "cell_type": "code",
   "execution_count": 6,
   "metadata": {},
   "outputs": [
    {
     "name": "stdout",
     "output_type": "stream",
     "text": [
      "7 5\n",
      "5 3\n",
      "3 1\n",
      "7 5\n",
      "5 3\n",
      "7 5\n",
      "1 6 3 4 5 2 7\n"
     ]
    }
   ],
   "source": [
    "n = int(input())\n",
    "a = list(map(int, input().split()))\n",
    "for i in range(0, len(a),2 ):\n",
    "    for j in range(i+2, len(a), 2):\n",
    "        print(a[i], a[j])\n",
    "        if (a[i] > a[j]):\n",
    "            a[i], a[j] = a[j], a[i]\n",
    "a = list(map(str, a))\n",
    "print(\" \".join(a))\n",
    "         "
   ]
  },
  {
   "cell_type": "code",
   "execution_count": 7,
   "metadata": {},
   "outputs": [
    {
     "name": "stdout",
     "output_type": "stream",
     "text": [
      "-1\n"
     ]
    }
   ],
   "source": [
    "def remove_immediate_duplicates(input_str):\n",
    "    stack = []\n",
    "    for digit in input_str:\n",
    "        # If the stack is not empty and the top is the same as the current digit\n",
    "        if stack and stack[-1] == digit:\n",
    "            stack.pop()  # Remove the duplicate\n",
    "        else:\n",
    "            stack.append(digit)  # Add non-duplicate to the stack\n",
    "    # Convert the stack to a string\n",
    "    result = ''.join(stack)\n",
    "    return result if result else \"-1\"\n",
    "\n",
    "# Sample Input\n",
    "input_str = \"1331\"\n",
    "\n",
    "# Output Result\n",
    "print(remove_immediate_duplicates(input_str))"
   ]
  },
  {
   "cell_type": "code",
   "execution_count": 12,
   "metadata": {},
   "outputs": [
    {
     "name": "stdout",
     "output_type": "stream",
     "text": [
      "1 1\n"
     ]
    }
   ],
   "source": [
    "#n = int(input())\n",
    "a = list(map(int, input().split()))\n",
    "result =[]\n",
    "result.append(a[0])\n",
    "for i in range(1, len(a)):\n",
    "    if (a[i] == a[i-1] ) :\n",
    "        result.pop()\n",
    "    else :\n",
    "        result.append(a[i])\n",
    "print(\" \".join(list(map(str,result))))"
   ]
  },
  {
   "cell_type": "code",
   "execution_count": null,
   "metadata": {},
   "outputs": [
    {
     "name": "stdout",
     "output_type": "stream",
     "text": [
      "[13, 12]\n",
      "[3, 2]\n",
      "12\n"
     ]
    }
   ],
   "source": [
    "n = int(input())\n",
    "a = list(map(int, input().split()))\n",
    "result = []\n",
    "frequency = []\n",
    "\n",
    "for i in range(len(a)):\n",
    "    if a[i] not in result:\n",
    "        result.append(a[i])\n",
    "        frequency.append(1)\n",
    "    else:\n",
    "        frequency[result.index(a[i])] += 1\n",
    "\n",
    "# print(result)\n",
    "# print(frequency)\n",
    "print(a[frequency.index(2)])"
   ]
  },
  {
   "cell_type": "code",
   "execution_count": 24,
   "metadata": {},
   "outputs": [
    {
     "name": "stdout",
     "output_type": "stream",
     "text": [
      "[2, 2, -1, -1, 6, 6]\n"
     ]
    }
   ],
   "source": [
    "from collections import deque\n",
    "dq = deque()\n",
    "result =[]\n",
    "n, k = list(map(int, input().split()))\n",
    "a = list(map(int, input().split()))\n",
    "for i in range(1, len(a)+1):\n",
    "    \n",
    "    #to set a sliding window\n",
    "    if dq and dq[0] < i - k + 1 :\n",
    "        dq.popleft()\n",
    "    \n",
    "    #to solve solution logic\n",
    "    if a[i-1] == 0:\n",
    "        dq.append(i)\n",
    "\n",
    "    # to add the value to result once the window gets completed, here we just use k instead of k - 1 because we start our index from 1\n",
    "    \n",
    "    if dq and i >= k:\n",
    "        result.append(dq[0])\n",
    "    \n",
    "    #if the window becomes empty append -1 as per question\n",
    "\n",
    "    elif i >= k :\n",
    "        result.append(-1)\n",
    "print(result)"
   ]
  },
  {
   "cell_type": "code",
   "execution_count": null,
   "metadata": {},
   "outputs": [],
   "source": []
  },
  {
   "cell_type": "code",
   "execution_count": 3,
   "metadata": {},
   "outputs": [
    {
     "name": "stdout",
     "output_type": "stream",
     "text": [
      "['Avengers', 'End', 'Game']\n"
     ]
    }
   ],
   "source": [
    "val = \"End Game Avengers\"\n",
    "#val.sort()\n",
    "print(sorted(val.split()))\n"
   ]
  },
  {
   "cell_type": "code",
   "execution_count": null,
   "metadata": {},
   "outputs": [
    {
     "name": "stdout",
     "output_type": "stream",
     "text": [
      "    A E G I W a a d e e e f g i i m n n n n r r s t v y\n",
      "[' ', ' ', 'A', 'E', 'G', 'I', 'W', 'a', 'a', 'd', 'e', 'e', 'e', 'f', 'g', 'i', 'i', 'm', 'n', 'n', 'n', 'n', 'r', 'r', 's', 't', 'v', 'y']\n"
     ]
    },
    {
     "ename": "",
     "evalue": "",
     "output_type": "error",
     "traceback": [
      "\u001b[1;31mThe Kernel crashed while executing code in the current cell or a previous cell. \n",
      "\u001b[1;31mPlease review the code in the cell(s) to identify a possible cause of the failure. \n",
      "\u001b[1;31mClick <a href='https://aka.ms/vscodeJupyterKernelCrash'>here</a> for more info. \n",
      "\u001b[1;31mView Jupyter <a href='command:jupyter.viewOutput'>log</a> for further details."
     ]
    }
   ],
   "source": [
    "# n = int(input())\n",
    "val = input()\n",
    "result = sorted(val)\n",
    "print(\" \".join(result))\n",
    "print(result)"
   ]
  },
  {
   "cell_type": "code",
   "execution_count": 6,
   "metadata": {},
   "outputs": [
    {
     "name": "stdout",
     "output_type": "stream",
     "text": [
      "['a', 'b', 'c', 'd']\n"
     ]
    }
   ],
   "source": [
    "n = int(input())\n",
    "val = input()\n",
    "result = sorted(val)\n",
    "print(result)"
   ]
  },
  {
   "cell_type": "code",
   "execution_count": 1,
   "metadata": {},
   "outputs": [
    {
     "name": "stdout",
     "output_type": "stream",
     "text": [
      "3 3 1 Not Present Not Present\n"
     ]
    }
   ],
   "source": [
    "# n = int(input())\n",
    "a = list(map(int, input().split()))\n",
    "# q = int(input())\n",
    "check = list(map(int, input().split()))\n",
    "arange = [] #first to sort based on frequency\n",
    "frequency = []\n",
    "result = [] \n",
    "\n",
    "#for getting the frequncy\n",
    "for i in range(len(a)):\n",
    "    if a[i] not in arange :\n",
    "        arange.append(a[i])\n",
    "        frequency.append(1)\n",
    "    elif arange :\n",
    "        frequency[arange.index(a[i])] += 1\n",
    " \n",
    "#to insert the result\n",
    "for i in check:\n",
    "    if i in arange:\n",
    "        result.append(frequency[arange.index(i)])\n",
    "    else:\n",
    "        result.append(\"Not Present\")\n",
    "result = list(map(str, result))\n",
    "print(\" \".join(result))"
   ]
  },
  {
   "cell_type": "code",
   "execution_count": 9,
   "metadata": {},
   "outputs": [
    {
     "name": "stdout",
     "output_type": "stream",
     "text": [
      "[30, 10, 15, 50]\n"
     ]
    }
   ],
   "source": [
    "from collections import deque\n",
    "a = [55, 25, 35, 20, 70]\n",
    "result = []\n",
    "dq = deque()\n",
    "k = 2\n",
    "for i in range(len(a)):\n",
    "    #for maintaining the sliding window\n",
    "    if dq and dq[0] < i - k + 1 :\n",
    "        dq.popleft()\n",
    "    #adding index position of the window to dq\n",
    "    dq.append(i)\n",
    "\n",
    "    #our expected result\n",
    "    if i >= k-1 :\n",
    "        result.append(abs(a[dq[0]] - a[dq[-1]]))\n",
    "\n",
    "print(result)\n",
    "\n",
    "\n"
   ]
  },
  {
   "cell_type": "code",
   "execution_count": 13,
   "metadata": {},
   "outputs": [
    {
     "name": "stdout",
     "output_type": "stream",
     "text": [
      "0.8\n"
     ]
    }
   ],
   "source": [
    "print(4/5)"
   ]
  },
  {
   "cell_type": "code",
   "execution_count": 19,
   "metadata": {},
   "outputs": [
    {
     "name": "stdout",
     "output_type": "stream",
     "text": [
      "30\n",
      "-10\n",
      "15\n",
      "-50\n",
      "15\n",
      "[1, 0, 0, 1, 0]\n",
      "1 0 0 1 0\n"
     ]
    }
   ],
   "source": [
    "from collections import deque\n",
    "a = [55, 25, 35, 20, 70]\n",
    "result = []\n",
    "for i in range (len(a)):\n",
    "    difference = abs(a[i] - a[(i + 1)%5])\n",
    "    print(a[i] - a[(i + 1)%5])\n",
    "    if difference > 15:\n",
    "        result.append(1)\n",
    "    else :\n",
    "        result.append(0)\n",
    "print(result)\n",
    "result = map(str, result)\n",
    "print(\" \".join(result) )"
   ]
  },
  {
   "cell_type": "code",
   "execution_count": 24,
   "metadata": {},
   "outputs": [
    {
     "name": "stdout",
     "output_type": "stream",
     "text": [
      "None\n",
      "1 2 3 4\n"
     ]
    }
   ],
   "source": [
    "a =['2', '1']\n",
    "b = ['3', '4']\n",
    "c = [4, 5]\n",
    "a.sort()\n",
    "print(c.sort())\n",
    "print(\" \".join(a), \" \".join(b))"
   ]
  },
  {
   "cell_type": "code",
   "execution_count": 29,
   "metadata": {},
   "outputs": [
    {
     "name": "stdout",
     "output_type": "stream",
     "text": [
      "12 98 1 2 3 5 8 9 11\n"
     ]
    }
   ],
   "source": [
    "tot = int(input())\n",
    "n1 = int(input())\n",
    "a = list(map(str, input().split()))\n",
    "n2 = int(input())\n",
    "b = list(map(str, input().split()))\n",
    "n3 = int(input())\n",
    "c = list(map(str, input().split()))\n",
    "a.sort()\n",
    "b.sort()\n",
    "c.sort()\n",
    "print(\" \".join(a), \" \".join(b), \" \".join(c))"
   ]
  },
  {
   "cell_type": "code",
   "execution_count": 30,
   "metadata": {},
   "outputs": [
    {
     "name": "stdout",
     "output_type": "stream",
     "text": [
      "[1, 2, 3, 4]\n"
     ]
    }
   ],
   "source": [
    "a= [1, 4, 2, 3 ]\n",
    "a.sort()\n",
    "print(a)"
   ]
  },
  {
   "cell_type": "code",
   "execution_count": 32,
   "metadata": {},
   "outputs": [
    {
     "name": "stdout",
     "output_type": "stream",
     "text": [
      "2\n"
     ]
    }
   ],
   "source": [
    "print(int(5/2))"
   ]
  },
  {
   "cell_type": "code",
   "execution_count": 43,
   "metadata": {},
   "outputs": [
    {
     "name": "stdout",
     "output_type": "stream",
     "text": [
      "olleh\n"
     ]
    }
   ],
   "source": [
    "n = input()\n",
    "mid = int(len(n)/2)\n",
    "if \n",
    "print(n[::-1])"
   ]
  }
 ],
 "metadata": {
  "kernelspec": {
   "display_name": "Python 3",
   "language": "python",
   "name": "python3"
  },
  "language_info": {
   "codemirror_mode": {
    "name": "ipython",
    "version": 3
   },
   "file_extension": ".py",
   "mimetype": "text/x-python",
   "name": "python",
   "nbconvert_exporter": "python",
   "pygments_lexer": "ipython3",
   "version": "3.12.5"
  }
 },
 "nbformat": 4,
 "nbformat_minor": 2
}
