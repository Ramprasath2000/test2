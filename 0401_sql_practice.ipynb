{
 "cells": [
  {
   "cell_type": "code",
   "execution_count": null,
   "metadata": {},
   "outputs": [],
   "source": []
  },
  {
   "cell_type": "code",
   "execution_count": null,
   "metadata": {},
   "outputs": [],
   "source": []
  },
  {
   "cell_type": "code",
   "execution_count": 1,
   "metadata": {},
   "outputs": [
    {
     "name": "stdout",
     "output_type": "stream",
     "text": [
      "Connection successful!\n",
      "Ping successful!\n",
      "Connection closed.\n"
     ]
    }
   ],
   "source": [
    "import mysql.connector\n",
    "from mysql.connector import Error\n",
    "\n",
    "def test_mysql_connection(host, user, password, database, port):\n",
    "    try:\n",
    "        # Establish the connection\n",
    "        connection = mysql.connector.connect(\n",
    "            host=host,\n",
    "            user=user,\n",
    "            password=password,\n",
    "            database=database,\n",
    "            port=port  # Include the port\n",
    "        )\n",
    "        if connection.is_connected():\n",
    "            print(\"Connection successful!\")\n",
    "            # Ping the server\n",
    "            connection.ping(reconnect=True, attempts=3, delay=5)\n",
    "            print(\"Ping successful!\")\n",
    "    except Error as e:\n",
    "        print(f\"Error: {e}\")\n",
    "    finally:\n",
    "        if 'connection' in locals() and connection.is_connected():\n",
    "            connection.close()\n",
    "            print(\"Connection closed.\")\n",
    "\n",
    "# Example Usage\n",
    "test_mysql_connection(\n",
    "    host=\"localhost\",     # Replace with your MySQL server host\n",
    "    user=\"root\",          # Replace with your MySQL username\n",
    "    password=\"\",          # Replace with your MySQL password\n",
    "    database=\"test\",      # Replace with your MySQL database\n",
    "    port=3306             # Replace with your XAMPP MySQL port (default is 3306)\n",
    ")\n"
   ]
  },
  {
   "cell_type": "code",
   "execution_count": 1,
   "metadata": {},
   "outputs": [
    {
     "name": "stdout",
     "output_type": "stream",
     "text": [
      "hi\n"
     ]
    }
   ],
   "source": [
    "print(\"hi\")"
   ]
  }
 ],
 "metadata": {
  "kernelspec": {
   "display_name": "Python 3",
   "language": "python",
   "name": "python3"
  },
  "language_info": {
   "codemirror_mode": {
    "name": "ipython",
    "version": 3
   },
   "file_extension": ".py",
   "mimetype": "text/x-python",
   "name": "python",
   "nbconvert_exporter": "python",
   "pygments_lexer": "ipython3",
   "version": "3.12.5"
  }
 },
 "nbformat": 4,
 "nbformat_minor": 2
}
